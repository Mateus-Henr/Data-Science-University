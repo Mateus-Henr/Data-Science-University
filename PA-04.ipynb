{
 "cells": [
  {
   "cell_type": "markdown",
   "id": "0f829590",
   "metadata": {},
   "source": [
    "# Atividade prática 4\n",
    "\n",
    "**Nome:** Mateus Henrique Vieira Figueiredo\n",
    "\n",
    "**Matrícula:** 4707"
   ]
  },
  {
   "cell_type": "code",
   "execution_count": 25,
   "id": "647326a0",
   "metadata": {},
   "outputs": [],
   "source": [
    "import pandas as pd\n",
    "from scipy.stats import ttest_ind"
   ]
  },
  {
   "cell_type": "markdown",
   "id": "e3a14b73",
   "metadata": {},
   "source": [
    "## Questão 1"
   ]
  },
  {
   "cell_type": "code",
   "execution_count": 2,
   "id": "b3e9661f",
   "metadata": {},
   "outputs": [],
   "source": [
    "first_protocol = pd.read_csv(\"files/atraso_ie666.csv\")\n",
    "second_protocol = pd.read_csv(\"files/atraso_ia171.csv\")"
   ]
  },
  {
   "cell_type": "code",
   "execution_count": 3,
   "id": "32fd2614",
   "metadata": {
    "scrolled": true
   },
   "outputs": [
    {
     "data": {
      "text/html": [
       "<div>\n",
       "<style scoped>\n",
       "    .dataframe tbody tr th:only-of-type {\n",
       "        vertical-align: middle;\n",
       "    }\n",
       "\n",
       "    .dataframe tbody tr th {\n",
       "        vertical-align: top;\n",
       "    }\n",
       "\n",
       "    .dataframe thead th {\n",
       "        text-align: right;\n",
       "    }\n",
       "</style>\n",
       "<table border=\"1\" class=\"dataframe\">\n",
       "  <thead>\n",
       "    <tr style=\"text-align: right;\">\n",
       "      <th></th>\n",
       "      <th>278.03</th>\n",
       "    </tr>\n",
       "  </thead>\n",
       "  <tbody>\n",
       "    <tr>\n",
       "      <th>count</th>\n",
       "      <td>99.000000</td>\n",
       "    </tr>\n",
       "    <tr>\n",
       "      <th>mean</th>\n",
       "      <td>185.859798</td>\n",
       "    </tr>\n",
       "    <tr>\n",
       "      <th>std</th>\n",
       "      <td>52.741770</td>\n",
       "    </tr>\n",
       "    <tr>\n",
       "      <th>min</th>\n",
       "      <td>54.960000</td>\n",
       "    </tr>\n",
       "    <tr>\n",
       "      <th>25%</th>\n",
       "      <td>153.850000</td>\n",
       "    </tr>\n",
       "    <tr>\n",
       "      <th>50%</th>\n",
       "      <td>178.450000</td>\n",
       "    </tr>\n",
       "    <tr>\n",
       "      <th>75%</th>\n",
       "      <td>228.440000</td>\n",
       "    </tr>\n",
       "    <tr>\n",
       "      <th>max</th>\n",
       "      <td>317.690000</td>\n",
       "    </tr>\n",
       "  </tbody>\n",
       "</table>\n",
       "</div>"
      ],
      "text/plain": [
       "           278.03\n",
       "count   99.000000\n",
       "mean   185.859798\n",
       "std     52.741770\n",
       "min     54.960000\n",
       "25%    153.850000\n",
       "50%    178.450000\n",
       "75%    228.440000\n",
       "max    317.690000"
      ]
     },
     "execution_count": 3,
     "metadata": {},
     "output_type": "execute_result"
    }
   ],
   "source": [
    "first_protocol.describe()"
   ]
  },
  {
   "cell_type": "code",
   "execution_count": 4,
   "id": "100dec70",
   "metadata": {},
   "outputs": [
    {
     "data": {
      "text/html": [
       "<div>\n",
       "<style scoped>\n",
       "    .dataframe tbody tr th:only-of-type {\n",
       "        vertical-align: middle;\n",
       "    }\n",
       "\n",
       "    .dataframe tbody tr th {\n",
       "        vertical-align: top;\n",
       "    }\n",
       "\n",
       "    .dataframe thead th {\n",
       "        text-align: right;\n",
       "    }\n",
       "</style>\n",
       "<table border=\"1\" class=\"dataframe\">\n",
       "  <thead>\n",
       "    <tr style=\"text-align: right;\">\n",
       "      <th></th>\n",
       "      <th>511.28</th>\n",
       "    </tr>\n",
       "  </thead>\n",
       "  <tbody>\n",
       "    <tr>\n",
       "      <th>count</th>\n",
       "      <td>99.000000</td>\n",
       "    </tr>\n",
       "    <tr>\n",
       "      <th>mean</th>\n",
       "      <td>500.118990</td>\n",
       "    </tr>\n",
       "    <tr>\n",
       "      <th>std</th>\n",
       "      <td>23.996813</td>\n",
       "    </tr>\n",
       "    <tr>\n",
       "      <th>min</th>\n",
       "      <td>424.770000</td>\n",
       "    </tr>\n",
       "    <tr>\n",
       "      <th>25%</th>\n",
       "      <td>483.450000</td>\n",
       "    </tr>\n",
       "    <tr>\n",
       "      <th>50%</th>\n",
       "      <td>503.340000</td>\n",
       "    </tr>\n",
       "    <tr>\n",
       "      <th>75%</th>\n",
       "      <td>516.745000</td>\n",
       "    </tr>\n",
       "    <tr>\n",
       "      <th>max</th>\n",
       "      <td>558.330000</td>\n",
       "    </tr>\n",
       "  </tbody>\n",
       "</table>\n",
       "</div>"
      ],
      "text/plain": [
       "           511.28\n",
       "count   99.000000\n",
       "mean   500.118990\n",
       "std     23.996813\n",
       "min    424.770000\n",
       "25%    483.450000\n",
       "50%    503.340000\n",
       "75%    516.745000\n",
       "max    558.330000"
      ]
     },
     "execution_count": 4,
     "metadata": {},
     "output_type": "execute_result"
    }
   ],
   "source": [
    "second_protocol.describe()"
   ]
  },
  {
   "cell_type": "code",
   "execution_count": 28,
   "id": "6087a6dc",
   "metadata": {},
   "outputs": [
    {
     "name": "stdout",
     "output_type": "stream",
     "text": [
      "Rejeita a hipótese nula: há diferença significativa entre as médias\n"
     ]
    }
   ],
   "source": [
    "#  A hipótese nula seria que não há diferença significativa entre os atrasos de transmissão dos dois protocolos, \n",
    "# enquanto a hipótese alternativa seria que há diferença significativa entre eles.\n",
    "\n",
    "t_stat, p_value = ttest_ind(first_protocol, second_protocol)\n",
    "\n",
    "if p_value < 0.05:\n",
    "    print(\"Rejeita a hipótese nula: há diferença significativa entre as médias\")\n",
    "else:\n",
    "    print(\"Aceita a hipótese nula: não há diferença significativa entre as médias\")"
   ]
  },
  {
   "cell_type": "markdown",
   "id": "d4f16943",
   "metadata": {},
   "source": [
    "Através da comparação das médias e devio padrão, podemos concluir qual protocolo seria melhor (neste caso o ie666, baseado na análise dos dados). Da mesma forma, podemos realizar o teste de hipóteses para identificar se há ou não diferença significativa entre os dados, o que é verdadeiro."
   ]
  },
  {
   "cell_type": "markdown",
   "id": "79d49605",
   "metadata": {},
   "source": [
    "## Questão 2"
   ]
  },
  {
   "cell_type": "code",
   "execution_count": 29,
   "id": "9a08940b",
   "metadata": {},
   "outputs": [],
   "source": [
    "first_file = pd.read_csv(\"files/tempo_combinar.csv\")\n",
    "second_file = pd.read_csv(\"files/tempo_bitcomb.csv\")"
   ]
  },
  {
   "cell_type": "code",
   "execution_count": 30,
   "id": "0a2f476b",
   "metadata": {},
   "outputs": [
    {
     "data": {
      "text/html": [
       "<div>\n",
       "<style scoped>\n",
       "    .dataframe tbody tr th:only-of-type {\n",
       "        vertical-align: middle;\n",
       "    }\n",
       "\n",
       "    .dataframe tbody tr th {\n",
       "        vertical-align: top;\n",
       "    }\n",
       "\n",
       "    .dataframe thead th {\n",
       "        text-align: right;\n",
       "    }\n",
       "</style>\n",
       "<table border=\"1\" class=\"dataframe\">\n",
       "  <thead>\n",
       "    <tr style=\"text-align: right;\">\n",
       "      <th></th>\n",
       "      <th>8.82</th>\n",
       "    </tr>\n",
       "  </thead>\n",
       "  <tbody>\n",
       "    <tr>\n",
       "      <th>count</th>\n",
       "      <td>99.000000</td>\n",
       "    </tr>\n",
       "    <tr>\n",
       "      <th>mean</th>\n",
       "      <td>9.548182</td>\n",
       "    </tr>\n",
       "    <tr>\n",
       "      <th>std</th>\n",
       "      <td>3.975723</td>\n",
       "    </tr>\n",
       "    <tr>\n",
       "      <th>min</th>\n",
       "      <td>-2.150000</td>\n",
       "    </tr>\n",
       "    <tr>\n",
       "      <th>25%</th>\n",
       "      <td>7.665000</td>\n",
       "    </tr>\n",
       "    <tr>\n",
       "      <th>50%</th>\n",
       "      <td>9.370000</td>\n",
       "    </tr>\n",
       "    <tr>\n",
       "      <th>75%</th>\n",
       "      <td>12.445000</td>\n",
       "    </tr>\n",
       "    <tr>\n",
       "      <th>max</th>\n",
       "      <td>18.400000</td>\n",
       "    </tr>\n",
       "  </tbody>\n",
       "</table>\n",
       "</div>"
      ],
      "text/plain": [
       "            8.82\n",
       "count  99.000000\n",
       "mean    9.548182\n",
       "std     3.975723\n",
       "min    -2.150000\n",
       "25%     7.665000\n",
       "50%     9.370000\n",
       "75%    12.445000\n",
       "max    18.400000"
      ]
     },
     "execution_count": 30,
     "metadata": {},
     "output_type": "execute_result"
    }
   ],
   "source": [
    "first_file.describe()"
   ]
  },
  {
   "cell_type": "code",
   "execution_count": 32,
   "id": "e6e59c24",
   "metadata": {},
   "outputs": [
    {
     "data": {
      "text/html": [
       "<div>\n",
       "<style scoped>\n",
       "    .dataframe tbody tr th:only-of-type {\n",
       "        vertical-align: middle;\n",
       "    }\n",
       "\n",
       "    .dataframe tbody tr th {\n",
       "        vertical-align: top;\n",
       "    }\n",
       "\n",
       "    .dataframe thead th {\n",
       "        text-align: right;\n",
       "    }\n",
       "</style>\n",
       "<table border=\"1\" class=\"dataframe\">\n",
       "  <thead>\n",
       "    <tr style=\"text-align: right;\">\n",
       "      <th></th>\n",
       "      <th>11.92</th>\n",
       "    </tr>\n",
       "  </thead>\n",
       "  <tbody>\n",
       "    <tr>\n",
       "      <th>count</th>\n",
       "      <td>99.000000</td>\n",
       "    </tr>\n",
       "    <tr>\n",
       "      <th>mean</th>\n",
       "      <td>8.711414</td>\n",
       "    </tr>\n",
       "    <tr>\n",
       "      <th>std</th>\n",
       "      <td>3.604167</td>\n",
       "    </tr>\n",
       "    <tr>\n",
       "      <th>min</th>\n",
       "      <td>-0.070000</td>\n",
       "    </tr>\n",
       "    <tr>\n",
       "      <th>25%</th>\n",
       "      <td>6.100000</td>\n",
       "    </tr>\n",
       "    <tr>\n",
       "      <th>50%</th>\n",
       "      <td>8.530000</td>\n",
       "    </tr>\n",
       "    <tr>\n",
       "      <th>75%</th>\n",
       "      <td>11.345000</td>\n",
       "    </tr>\n",
       "    <tr>\n",
       "      <th>max</th>\n",
       "      <td>17.200000</td>\n",
       "    </tr>\n",
       "  </tbody>\n",
       "</table>\n",
       "</div>"
      ],
      "text/plain": [
       "           11.92\n",
       "count  99.000000\n",
       "mean    8.711414\n",
       "std     3.604167\n",
       "min    -0.070000\n",
       "25%     6.100000\n",
       "50%     8.530000\n",
       "75%    11.345000\n",
       "max    17.200000"
      ]
     },
     "execution_count": 32,
     "metadata": {},
     "output_type": "execute_result"
    }
   ],
   "source": [
    "second_file.describe()"
   ]
  },
  {
   "cell_type": "code",
   "execution_count": 34,
   "id": "9217fda6",
   "metadata": {},
   "outputs": [
    {
     "name": "stdout",
     "output_type": "stream",
     "text": [
      "Aceita a hipótese nula: não há diferença significativa entre as médias\n"
     ]
    }
   ],
   "source": [
    "#  A hipótese nula seria que não há diferença significativa entre os tempos médios de execução dos algoritmos,\n",
    "# enquanto a hipótese alternativa seria que há diferença significativa entre eles.\n",
    "\n",
    "t_stat, p_value = ttest_ind(first_file, second_file)\n",
    "\n",
    "if p_value < 0.05:\n",
    "    print(\"Rejeita a hipótese nula: há diferença significativa entre as médias\")\n",
    "else:\n",
    "    print(\"Aceita a hipótese nula: não há diferença significativa entre as médias\")"
   ]
  },
  {
   "cell_type": "markdown",
   "id": "9c9e033c",
   "metadata": {},
   "source": [
    "Como podemos ver através do teste de hipóteses e um descrição dos dados, podemos concluir que não há diferença significativa\n",
    "entre as médias, portanto não rejeitamos h0."
   ]
  }
 ],
 "metadata": {
  "kernelspec": {
   "display_name": "Python 3 (ipykernel)",
   "language": "python",
   "name": "python3"
  },
  "language_info": {
   "codemirror_mode": {
    "name": "ipython",
    "version": 3
   },
   "file_extension": ".py",
   "mimetype": "text/x-python",
   "name": "python",
   "nbconvert_exporter": "python",
   "pygments_lexer": "ipython3",
   "version": "3.10.9"
  }
 },
 "nbformat": 4,
 "nbformat_minor": 5
}
