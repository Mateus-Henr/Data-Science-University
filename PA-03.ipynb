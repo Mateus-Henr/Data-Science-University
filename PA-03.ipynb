{
 "cells": [
  {
   "cell_type": "markdown",
   "metadata": {
    "id": "B7ekE2pBce0f"
   },
   "source": [
    "> Introdução à Ciência dos Dados \\\n",
    "> Ciência da Computação – UFV/Florestal\n",
    "\n",
    "\n",
    "* **Nome:** Mateus Henrique Vieira Figueiredo\n",
    "* **Matrícula:**  4707\n",
    "\n",
    "# Aula Prática 03\n",
    "##  Teorema Central do Limite\n",
    "\n",
    "**Objetivo:** Aplicar os conceitos do teorema central do limite para inferir conhecimento sobre uma população. \\\n",
    "**Pré-requisitos:** Linguagem de programação Python, estatística básica \\\n",
    "**Meta:** Ao final da prática, o aluno será capaz de utilizar ferramentas de análise de dados para inferir características de uma população a partir de amostras, e também de verificar se uma amostra pertence ou não a determinada população.\n",
    "\n",
    "----"
   ]
  },
  {
   "cell_type": "code",
   "execution_count": 1,
   "metadata": {
    "id": "JWrndYx6csMf"
   },
   "outputs": [
    {
     "name": "stdout",
     "output_type": "stream",
     "text": [
      "Requirement already satisfied: learntools_dados_ufv in c:\\projects\\machinelearning\\env\\lib\\site-packages (1.0.10)\n"
     ]
    },
    {
     "name": "stderr",
     "output_type": "stream",
     "text": [
      "'wget' nÆo ‚ reconhecido como um comando interno\n",
      "ou externo, um programa oper vel ou um arquivo em lotes.\n",
      "'wget' nÆo ‚ reconhecido como um comando interno\n",
      "ou externo, um programa oper vel ou um arquivo em lotes.\n",
      "'wget' nÆo ‚ reconhecido como um comando interno\n",
      "ou externo, um programa oper vel ou um arquivo em lotes.\n",
      "'wget' nÆo ‚ reconhecido como um comando interno\n",
      "ou externo, um programa oper vel ou um arquivo em lotes.\n",
      "'wget' nÆo ‚ reconhecido como um comando interno\n",
      "ou externo, um programa oper vel ou um arquivo em lotes.\n",
      "'wget' nÆo ‚ reconhecido como um comando interno\n",
      "ou externo, um programa oper vel ou um arquivo em lotes.\n",
      "'wget' nÆo ‚ reconhecido como um comando interno\n",
      "ou externo, um programa oper vel ou um arquivo em lotes.\n"
     ]
    }
   ],
   "source": [
    "### NÃO REMOVA ESSA CÉLULA! ####\n",
    "!pip --no-cache-dir install --upgrade learntools_dados_ufv\n",
    "\n",
    "!wget https://raw.githubusercontent.com/gfviegas/CCF425-resources/master/p3/renda_populacao.csv\n",
    "!wget https://raw.githubusercontent.com/gfviegas/CCF425-resources/master/p3/renda_amostra1.csv\n",
    "\n",
    "!wget https://raw.githubusercontent.com/gfviegas/CCF425-resources/master/p3/pesos_populacao.csv\n",
    "!wget https://raw.githubusercontent.com/gfviegas/CCF425-resources/master/p3/pesos_amostra1.csv\n",
    "!wget https://raw.githubusercontent.com/gfviegas/CCF425-resources/master/p3/pesos_amostra2.csv\n",
    "!wget https://raw.githubusercontent.com/gfviegas/CCF425-resources/master/p3/pesos_amostra3.csv\n",
    "!wget https://raw.githubusercontent.com/gfviegas/CCF425-resources/master/p3/pesos_amostra4.csv"
   ]
  },
  {
   "cell_type": "code",
   "execution_count": 2,
   "metadata": {
    "id": "_X9J3UPRX7_6"
   },
   "outputs": [],
   "source": [
    "#### Não altere essa célula!!! ####\n",
    "import pandas as pd\n",
    "import numpy as np\n",
    "import matplotlib.pyplot as plt\n",
    "import seaborn as sns\n",
    "\n",
    "\n",
    "from learntools_dados_ufv.core import binder; binder.bind(globals())\n",
    "from learntools_dados_ufv.ccf425.pratica_3 import *\n",
    "from scipy.stats import normaltest"
   ]
  },
  {
   "cell_type": "markdown",
   "metadata": {
    "id": "AwbsSFyfce0j"
   },
   "source": [
    "# Roteiro"
   ]
  },
  {
   "cell_type": "markdown",
   "metadata": {
    "id": "CHMN-XCice0k"
   },
   "source": [
    "## Leitura dos dados\n",
    "Veja os dados do arquivo `renda_populacao.csv`. \n",
    "\n",
    "Use a opção `squeeze=True` para obter uma Série do arquivo e não um DataFrame (comportamento default). Note que não possui cabeçalhos."
   ]
  },
  {
   "cell_type": "code",
   "execution_count": 3,
   "metadata": {
    "id": "WPytsVToce0k",
    "outputId": "fd5785ee-73ff-4f31-b0cd-549839a25f96"
   },
   "outputs": [
    {
     "name": "stderr",
     "output_type": "stream",
     "text": [
      "C:\\Users\\matt\\AppData\\Local\\Temp\\ipykernel_7032\\2951255903.py:1: FutureWarning: The squeeze argument has been deprecated and will be removed in a future version. Append .squeeze(\"columns\") to the call to squeeze.\n",
      "\n",
      "\n",
      "  series = pd.read_csv('./renda_populacao.csv', index_col=False, header=None, squeeze=True)\n"
     ]
    },
    {
     "data": {
      "text/plain": [
       "0         9536.34\n",
       "1       267273.60\n",
       "2        39596.61\n",
       "3        24992.04\n",
       "4         9286.11\n",
       "          ...    \n",
       "9995     31717.13\n",
       "9996     30511.21\n",
       "9997      9335.55\n",
       "9998      9905.62\n",
       "9999    122687.20\n",
       "Name: 0, Length: 10000, dtype: float64"
      ]
     },
     "execution_count": 3,
     "metadata": {},
     "output_type": "execute_result"
    }
   ],
   "source": [
    "series = pd.read_csv('./renda_populacao.csv', index_col=False, header=None, squeeze=True)\n",
    "series"
   ]
  },
  {
   "cell_type": "markdown",
   "metadata": {
    "id": "XJam9X9Rce0l"
   },
   "source": [
    "## Explorar os dados com base em estatísticas descritivas\n",
    "\n",
    "Observação: para formatar a saída dos números reais no pandas, utilizar o comando: `pd.options.display.float_format = \"{:.2f}\".format`\n"
   ]
  },
  {
   "cell_type": "code",
   "execution_count": 4,
   "metadata": {
    "id": "mXO_Ud9zce0m",
    "outputId": "777dfd7b-94c4-42f0-e970-691bae436820"
   },
   "outputs": [
    {
     "data": {
      "text/plain": [
       "count     10000.00\n",
       "mean      36210.55\n",
       "std       46539.07\n",
       "min         391.72\n",
       "25%       11205.69\n",
       "50%       22006.79\n",
       "75%       43049.55\n",
       "max     1119768.63\n",
       "Name: 0, dtype: float64"
      ]
     },
     "execution_count": 4,
     "metadata": {},
     "output_type": "execute_result"
    }
   ],
   "source": [
    "pd.options.display.float_format = \"{:.2f}\".format\n",
    "\n",
    "series.describe()"
   ]
  },
  {
   "cell_type": "markdown",
   "metadata": {
    "id": "0-cPTAN8ce0m"
   },
   "source": [
    "## Plotar a distribuição dessa população\n",
    "\n",
    "Observação: Por enquanto vamos simplesmente aceitar esse código usando as bibliotecas _matplotlib_ e _seaborn_. Depois vamos entender melhor como gerar gráficos."
   ]
  },
  {
   "cell_type": "code",
   "execution_count": 5,
   "metadata": {
    "id": "f0EZo97Lce0n",
    "outputId": "3c6066a8-e783-4678-bc11-67346f69316d"
   },
   "outputs": [
    {
     "data": {
      "image/png": "[encoded data removed]",
      "text/plain": [
       "<Figure size 500x500 with 1 Axes>"
      ]
     },
     "metadata": {},
     "output_type": "display_data"
    }
   ],
   "source": [
    "def plot_dist_data(data):\n",
    "    ax = sns.displot(data)\n",
    "    ax.set(xlabel=\"Renda\", ylabel=\"Frequência\")\n",
    "\n",
    "    plt.show()\n",
    "\n",
    "\n",
    "plot_dist_data(series)"
   ]
  },
  {
   "cell_type": "markdown",
   "metadata": {
    "id": "PD-SIyvTce0n"
   },
   "source": [
    "## Plotar uma amostra dessa população de tamanho 10\n",
    "\n",
    "Note que a amostragem é aleatória, e portanto, em cada execução vai gerar um gráfico diferente."
   ]
  },
  {
   "cell_type": "code",
   "execution_count": 6,
   "metadata": {
    "id": "3l7cYnhjce0n",
    "outputId": "cb559cc0-805d-46a2-be02-ddab523adb21"
   },
   "outputs": [
    {
     "data": {
      "text/plain": [
       "3491    12261.94\n",
       "6261     8533.63\n",
       "5228    76323.44\n",
       "8447    46782.06\n",
       "210    165527.88\n",
       "          ...   \n",
       "8198    10039.02\n",
       "7991     7155.13\n",
       "8645     7900.50\n",
       "9534    17303.56\n",
       "5244    50653.19\n",
       "Name: 0, Length: 100, dtype: float64"
      ]
     },
     "execution_count": 6,
     "metadata": {},
     "output_type": "execute_result"
    }
   ],
   "source": [
    "# Gera uma amostra de tamanho 100 dos dados. \n",
    "sample = series.sample(100)\n",
    "sample"
   ]
  },
  {
   "cell_type": "code",
   "execution_count": 7,
   "metadata": {
    "id": "3DOjbUaqce0o",
    "outputId": "7d636229-6d20-4c90-9c25-e8f3ed9f2744"
   },
   "outputs": [
    {
     "data": {
      "image/png": "[encoded data removed]",
      "text/plain": [
       "<Figure size 500x500 with 1 Axes>"
      ]
     },
     "metadata": {},
     "output_type": "display_data"
    }
   ],
   "source": [
    "# Plota de fato a amostra\n",
    "plot_dist_data(sample)"
   ]
  },
  {
   "cell_type": "markdown",
   "metadata": {
    "id": "ifEeRfWLce0o"
   },
   "source": [
    "## Explorar os dados com base em estatísticas descritivas da amostra\n",
    "\n",
    "Veja a média da amostra. Esse valor está dentro do esperado para a população?\n",
    "\n",
    "Repita os últimos 3 passos (gerar amostra, plotar amostra, calcular média da amostra) algumas vezes para verificar o que acontece com a média. \n",
    "\n",
    "> Observação: os resultados de cada execução serão diferentes, pois estamos pegando amostras aleatórias."
   ]
  },
  {
   "cell_type": "code",
   "execution_count": 8,
   "metadata": {
    "id": "hY5UGk9mce0p",
    "outputId": "c407770b-f1d1-4286-83e6-20189c8963df"
   },
   "outputs": [
    {
     "data": {
      "text/plain": [
       "count      100.00\n",
       "mean     39115.42\n",
       "std      48161.36\n",
       "min        889.16\n",
       "25%      10110.97\n",
       "50%      21331.54\n",
       "75%      48925.85\n",
       "max     326188.49\n",
       "Name: 0, dtype: float64"
      ]
     },
     "execution_count": 8,
     "metadata": {},
     "output_type": "execute_result"
    }
   ],
   "source": [
    "sample.describe()"
   ]
  },
  {
   "cell_type": "markdown",
   "metadata": {
    "id": "imXBatyzce0p"
   },
   "source": [
    "## Gerar métricas de um conjunto de amostras aleatórias\n",
    "\n",
    "Vamos gerar 50 amostras aleatórias da população, calcular a média de cada amostra, plotar a distribuição das médias, e calcular a média das médias das amostras e o erro padrão."
   ]
  },
  {
   "cell_type": "code",
   "execution_count": 9,
   "metadata": {
    "id": "_vq_l-dkce0p",
    "outputId": "fbe3f7a5-33c6-4aae-e239-f0a089e0867b"
   },
   "outputs": [
    {
     "name": "stdout",
     "output_type": "stream",
     "text": [
      "Média das médias: 36262.98\n",
      "Erro padrão: 6581.62\n"
     ]
    },
    {
     "data": {
      "image/png": "[encoded data removed]",
      "text/plain": [
       "<Figure size 500x500 with 1 Axes>"
      ]
     },
     "metadata": {},
     "output_type": "display_data"
    }
   ],
   "source": [
    "# Gerar N amostras de tamanho T e plota as médias das amostras\n",
    "def analyze_samples(N=50, T=100):\n",
    "    # Gera N amostras diferentes de tamanho T\n",
    "    samples_list = [series.sample(T) for _i in range(0, N)]\n",
    "    # Gera uma lista com a média de cada uma das amostras acima\n",
    "    means_of_samples = [s.mean() for s in samples_list]\n",
    "\n",
    "    # Média das médias\n",
    "    mean_of_means = np.mean(means_of_samples)\n",
    "\n",
    "    # Erro padrão\n",
    "    std_error = series.std() / np.sqrt(len(means_of_samples))\n",
    "\n",
    "    print(\"Média das médias: {:.2f}\".format(mean_of_means))\n",
    "    print(\"Erro padrão: {:.2f}\".format(std_error))\n",
    "\n",
    "    plot_dist_data(means_of_samples)\n",
    "\n",
    "\n",
    "\n",
    "analyze_samples(50, 100)"
   ]
  },
  {
   "cell_type": "markdown",
   "metadata": {
    "id": "cB69YZjsce0q"
   },
   "source": [
    "## Analisar o conjunto de amostras\n",
    "Repita a célula anterior algumas vezes. Observe o gráfico.\n",
    "\n",
    "- Ele segue a distribuição Normal?\n",
    "- As médias das médias das amostras estão próximas da média da população?\n",
    "- E os erros padrões?\n"
   ]
  },
  {
   "cell_type": "markdown",
   "metadata": {
    "id": "zM6ddcFBce0q"
   },
   "source": [
    "## Veja amostras maiores\n",
    "Repita o processo apresentado (de gerar amostras, calcular médias e ver gráficos), mas agora com um número maior de amostras (100, 250, 500). \n",
    "\n",
    "Podemos observar que a distribuição das médias se aproxima mais da distribuição Normal? E o que acontece com o erro padrão?"
   ]
  },
  {
   "cell_type": "code",
   "execution_count": 10,
   "metadata": {
    "id": "p3No6jtMce0q",
    "outputId": "228fd7d2-9f93-45eb-fa92-7e5dbbbf84b2"
   },
   "outputs": [
    {
     "name": "stdout",
     "output_type": "stream",
     "text": [
      "Média das médias: 36697.01\n",
      "Erro padrão: 4653.91\n"
     ]
    },
    {
     "data": {
      "image/png": "[encoded data removed]",
      "text/plain": [
       "<Figure size 500x500 with 1 Axes>"
      ]
     },
     "metadata": {},
     "output_type": "display_data"
    }
   ],
   "source": [
    "analyze_samples(N=100)"
   ]
  },
  {
   "cell_type": "code",
   "execution_count": 11,
   "metadata": {
    "id": "-5wUXhcece0q",
    "outputId": "a0689414-0502-4566-93d0-86add7b8cef9"
   },
   "outputs": [
    {
     "name": "stdout",
     "output_type": "stream",
     "text": [
      "Média das médias: 36353.33\n",
      "Erro padrão: 2943.39\n"
     ]
    },
    {
     "data": {
      "image/png": "[encoded data removed]",
      "text/plain": [
       "<Figure size 500x500 with 1 Axes>"
      ]
     },
     "metadata": {},
     "output_type": "display_data"
    }
   ],
   "source": [
    "analyze_samples(N=250)"
   ]
  },
  {
   "cell_type": "code",
   "execution_count": 12,
   "metadata": {
    "id": "oTNyivXece0r",
    "outputId": "765c30c8-3687-4681-b427-c3175a65945f"
   },
   "outputs": [
    {
     "name": "stdout",
     "output_type": "stream",
     "text": [
      "Média das médias: 36151.31\n",
      "Erro padrão: 2081.29\n"
     ]
    },
    {
     "data": {
      "image/png": "[encoded data removed]",
      "text/plain": [
       "<Figure size 500x500 with 1 Axes>"
      ]
     },
     "metadata": {},
     "output_type": "display_data"
    }
   ],
   "source": [
    "analyze_samples(N=500)"
   ]
  },
  {
   "cell_type": "markdown",
   "metadata": {
    "id": "cxH2JZ8sce0r"
   },
   "source": [
    "## Verificar se uma amostra pertence a população\n",
    "\n",
    "Leia o arquivo de amostra de rendas (renda_amostra1.csv). Verifique se essa amostra faz parte da população de renda (renda.csv) ou não: \n",
    "1. Calcule a média e o erro padrão;\n",
    "2. Verifique a quantos erros da média da população a média da amostra está;\n"
   ]
  },
  {
   "cell_type": "code",
   "execution_count": 13,
   "metadata": {
    "id": "Oqrrz41Bce0r",
    "outputId": "81d0ffea-bfde-4c68-d4b0-b8e61ef9dd04"
   },
   "outputs": [
    {
     "name": "stderr",
     "output_type": "stream",
     "text": [
      "C:\\Users\\matt\\AppData\\Local\\Temp\\ipykernel_7032\\3860930303.py:1: FutureWarning: The squeeze argument has been deprecated and will be removed in a future version. Append .squeeze(\"columns\") to the call to squeeze.\n",
      "\n",
      "\n",
      "  sample_1 = pd.read_csv(\"./renda_amostra1.csv\", index_col=False, header=None, squeeze=True)\n"
     ]
    },
    {
     "data": {
      "text/plain": [
       "0      4462.94\n",
       "1     28223.57\n",
       "2     64744.10\n",
       "3      4326.30\n",
       "4      6050.94\n",
       "        ...   \n",
       "95     6257.41\n",
       "96     7002.31\n",
       "97     2489.48\n",
       "98    59734.25\n",
       "99   194382.99\n",
       "Name: 0, Length: 100, dtype: float64"
      ]
     },
     "execution_count": 13,
     "metadata": {},
     "output_type": "execute_result"
    }
   ],
   "source": [
    "sample_1 = pd.read_csv(\"./renda_amostra1.csv\", index_col=False, header=None, squeeze=True)\n",
    "sample_1"
   ]
  },
  {
   "cell_type": "code",
   "execution_count": 14,
   "metadata": {
    "id": "3MUPPamRce0r",
    "outputId": "4ff274e8-40b8-437a-85e8-e3b4644a1b5f"
   },
   "outputs": [
    {
     "name": "stdout",
     "output_type": "stream",
     "text": [
      "Média da população: 36210.55\n",
      "Média da amostra: 35515.00\n",
      "Erro padrão: 4653.91\n"
     ]
    }
   ],
   "source": [
    "series_mean = series.mean()\n",
    "sample_1_mean = sample_1.mean()\n",
    "std_error = series.std() / np.sqrt(len(sample_1))\n",
    "\n",
    "print(\"Média da população: {:.2f}\".format(series_mean))\n",
    "print(\"Média da amostra: {:.2f}\".format(sample_1_mean))\n",
    "print(\"Erro padrão: {:.2f}\".format(std_error))"
   ]
  },
  {
   "cell_type": "code",
   "execution_count": 15,
   "metadata": {
    "id": "WG8FPQSWce0s",
    "outputId": "601b8758-174c-4aec-b36d-cdea70972260"
   },
   "outputs": [
    {
     "name": "stdout",
     "output_type": "stream",
     "text": [
      "A diferença entre a média da população e da amostra é de 0.1495 erros padrão\n"
     ]
    }
   ],
   "source": [
    "# Calcula a diferença entre a média da população e da amostra, em termos do erro padrão.\n",
    "std_error_distance = abs(series_mean - sample_1_mean) / std_error\n",
    "\n",
    "print(\"A diferença entre a média da população e da amostra é de {:.4f} erros padrão\".format(std_error_distance))"
   ]
  },
  {
   "cell_type": "markdown",
   "metadata": {
    "id": "8aG5nMG5ce0s"
   },
   "source": [
    "# Exercícios"
   ]
  },
  {
   "cell_type": "markdown",
   "metadata": {
    "id": "3LWiNtDCX7_7"
   },
   "source": [
    "## 1. Leia os dados de uma população de pesos (_pesos_populacao.csv_)\n",
    "Armazene na variável `population_weight`. \n",
    "\n",
    "Chame a função `q1.check()` no fim da célula para verificar a resposta.\n",
    "Você pode pedir dicas com `q1.hint()`"
   ]
  },
  {
   "cell_type": "code",
   "execution_count": 16,
   "metadata": {
    "id": "ja1KJaDIce0s"
   },
   "outputs": [
    {
     "name": "stderr",
     "output_type": "stream",
     "text": [
      "C:\\Users\\matt\\AppData\\Local\\Temp\\ipykernel_7032\\2344206030.py:3: FutureWarning: The squeeze argument has been deprecated and will be removed in a future version. Append .squeeze(\"columns\") to the call to squeeze.\n",
      "\n",
      "\n",
      "  population_weight = pd.read_csv(\"./pesos_populacao.csv\", index_col=False, header=None, squeeze=True)\n"
     ]
    },
    {
     "data": {
      "text/plain": [
       "0      158.98\n",
       "1      176.40\n",
       "2      148.37\n",
       "3      184.33\n",
       "4      188.31\n",
       "        ...  \n",
       "9995   187.56\n",
       "9996   143.56\n",
       "9997   135.31\n",
       "9998   157.65\n",
       "9999   170.29\n",
       "Name: 0, Length: 10000, dtype: float64"
      ]
     },
     "metadata": {},
     "output_type": "display_data"
    },
    {
     "name": "stderr",
     "output_type": "stream",
     "text": [
      "C:\\Projects\\MachineLearning\\env\\lib\\site-packages\\learntools_dados_ufv\\ccf425\\pratica_3.py:15: FutureWarning: The squeeze argument has been deprecated and will be removed in a future version. Append .squeeze(\"columns\") to the call to squeeze.\n",
      "\n",
      "\n",
      "  assert_series_equals(population_weight, pd.read_csv('./pesos_populacao.csv', header=None, squeeze=True), name='population_weight')\n"
     ]
    },
    {
     "data": {
      "application/javascript": [
       "parent.postMessage({\"jupyterEvent\": \"custom.exercise_interaction\", \"data\": {\"outcomeType\": 1, \"valueTowardsCompletion\": 0.5, \"interactionType\": 1, \"questionType\": 2, \"questionId\": \"1_Q1\", \"learnToolsVersion\": \"1.0.10\", \"failureMessage\": \"\", \"exceptionClass\": \"\", \"trace\": \"\"}}, \"*\")"
      ],
      "text/plain": [
       "<IPython.core.display.Javascript object>"
      ]
     },
     "metadata": {},
     "output_type": "display_data"
    },
    {
     "data": {
      "text/markdown": [
       "<span style=\"color:#33cc33\">CORRETO:</span> \n",
       "\n"
      ],
      "text/plain": [
       "CORRETO: \n"
      ]
     },
     "metadata": {},
     "output_type": "display_data"
    }
   ],
   "source": [
    "# q1.hint()\n",
    "\n",
    "population_weight = pd.read_csv(\"./pesos_populacao.csv\", index_col=False, header=None, squeeze=True)\n",
    "display(population_weight)\n",
    "\n",
    "q1.check()"
   ]
  },
  {
   "cell_type": "markdown",
   "metadata": {
    "id": "wPZMt8Fpce0s"
   },
   "source": [
    "## 2. Analise a `Amostra 1`\n",
    "Essa é uma atividade com múltiplas questões."
   ]
  },
  {
   "cell_type": "markdown",
   "metadata": {
    "id": "Qdz528Ecce0t"
   },
   "source": [
    "### 2.a. Leia o arquivo com os dados da amostra.\n",
    "Armazene na variável `sample_1_weight`. \n",
    "\n",
    "Chame a função `q2.a.check()` no fim da célula para verificar a resposta.\n",
    "Você pode pedir dicas com `q2.a.hint()`"
   ]
  },
  {
   "cell_type": "code",
   "execution_count": 17,
   "metadata": {
    "id": "5xuRkwaJce0t"
   },
   "outputs": [
    {
     "name": "stderr",
     "output_type": "stream",
     "text": [
      "C:\\Users\\matt\\AppData\\Local\\Temp\\ipykernel_7032\\1528295492.py:3: FutureWarning: The squeeze argument has been deprecated and will be removed in a future version. Append .squeeze(\"columns\") to the call to squeeze.\n",
      "\n",
      "\n",
      "  sample_1_weight = pd.read_csv(\"./pesos_amostra1.csv\", index_col=False, header=None, squeeze=True)\n"
     ]
    },
    {
     "data": {
      "text/plain": [
       "0    145.43\n",
       "1    173.47\n",
       "2    168.14\n",
       "3    163.19\n",
       "4    151.58\n",
       "      ...  \n",
       "95   147.93\n",
       "96   172.30\n",
       "97   194.69\n",
       "98   170.92\n",
       "99   185.79\n",
       "Name: 0, Length: 100, dtype: float64"
      ]
     },
     "metadata": {},
     "output_type": "display_data"
    },
    {
     "name": "stderr",
     "output_type": "stream",
     "text": [
      "C:\\Projects\\MachineLearning\\env\\lib\\site-packages\\learntools_dados_ufv\\ccf425\\pratica_3.py:26: FutureWarning: The squeeze argument has been deprecated and will be removed in a future version. Append .squeeze(\"columns\") to the call to squeeze.\n",
      "\n",
      "\n",
      "  assert_series_equals(sample_1_weight, pd.read_csv('./pesos_amostra1.csv', header=None, squeeze=True), name='sample_1_weight')\n"
     ]
    },
    {
     "data": {
      "application/javascript": [
       "parent.postMessage({\"jupyterEvent\": \"custom.exercise_interaction\", \"data\": {\"outcomeType\": 1, \"valueTowardsCompletion\": 0.5, \"interactionType\": 1, \"questionType\": 2, \"questionId\": \"2.1_Q2A\", \"learnToolsVersion\": \"1.0.10\", \"failureMessage\": \"\", \"exceptionClass\": \"\", \"trace\": \"\"}}, \"*\")"
      ],
      "text/plain": [
       "<IPython.core.display.Javascript object>"
      ]
     },
     "metadata": {},
     "output_type": "display_data"
    },
    {
     "data": {
      "text/markdown": [
       "<span style=\"color:#33cc33\">CORRETO:</span> \n",
       "\n"
      ],
      "text/plain": [
       "CORRETO: \n"
      ]
     },
     "metadata": {},
     "output_type": "display_data"
    }
   ],
   "source": [
    "# q2.a.hint()\n",
    "\n",
    "sample_1_weight = pd.read_csv(\"./pesos_amostra1.csv\", index_col=False, header=None, squeeze=True)\n",
    "display(sample_1_weight)\n",
    "\n",
    "q2.a.check()"
   ]
  },
  {
   "cell_type": "markdown",
   "metadata": {
    "id": "k3vFLM4uce0t"
   },
   "source": [
    "### 2.b. Verifique se a amostra pertence a população.\n",
    "A amostra foi retirada ou não da população de pesos? Justifique\n",
    "\n",
    "Armazene a resposta booleana na variável `is_sample_1_from_population`. \n",
    "\n",
    "\n",
    "Chame a função `q2.b.check()` no fim da célula para verificar a resposta.\n",
    "Você pode pedir dicas com `q2.b.hint(n)` onde n é o número da dica.\n",
    "\n",
    "> OBS: Mesmo que o corretor aceite respostas booleanas (e você pode \"_roubar_\" testando a resposta antes), será analisado também a justificativa."
   ]
  },
  {
   "cell_type": "code",
   "execution_count": 20,
   "metadata": {
    "id": "JLL_kWbQce0t"
   },
   "outputs": [
    {
     "data": {
      "application/javascript": [
       "parent.postMessage({\"jupyterEvent\": \"custom.exercise_interaction\", \"data\": {\"interactionType\": 2, \"questionType\": 1, \"questionId\": \"2.2_Q2B\", \"learnToolsVersion\": \"1.0.10\", \"valueTowardsCompletion\": 0.0, \"failureMessage\": \"\", \"exceptionClass\": \"\", \"trace\": \"\", \"outcomeType\": 4}}, \"*\")"
      ],
      "text/plain": [
       "<IPython.core.display.Javascript object>"
      ]
     },
     "metadata": {},
     "output_type": "display_data"
    },
    {
     "data": {
      "text/markdown": [
       "<span style=\"color:#3366cc\">Dica 2:</span> Após calcular as médias, calcule o erro padrão.\n",
       "(Para outra dica, chame `.hint(3)`)"
      ],
      "text/plain": [
       "Dica 2: Após calcular as médias, calcule o erro padrão.\n",
       "(Para outra dica, chame `.hint(3)`)"
      ]
     },
     "metadata": {},
     "output_type": "display_data"
    },
    {
     "data": {
      "text/plain": [
       "True"
      ]
     },
     "metadata": {},
     "output_type": "display_data"
    },
    {
     "data": {
      "application/javascript": [
       "parent.postMessage({\"jupyterEvent\": \"custom.exercise_interaction\", \"data\": {\"outcomeType\": 1, \"valueTowardsCompletion\": 0.5, \"interactionType\": 1, \"questionType\": 1, \"questionId\": \"2.2_Q2B\", \"learnToolsVersion\": \"1.0.10\", \"failureMessage\": \"\", \"exceptionClass\": \"\", \"trace\": \"\"}}, \"*\")"
      ],
      "text/plain": [
       "<IPython.core.display.Javascript object>"
      ]
     },
     "metadata": {},
     "output_type": "display_data"
    },
    {
     "data": {
      "text/markdown": [
       "<span style=\"color:#33cc33\">CORRETO:</span> \n",
       "\n"
      ],
      "text/plain": [
       "CORRETO: \n"
      ]
     },
     "metadata": {},
     "output_type": "display_data"
    }
   ],
   "source": [
    "q2.b.hint(2)\n",
    "\n",
    "sample_mean = sample_1_weight.mean()\n",
    "population_mean = population_weight.mean()\n",
    "\n",
    "std_error = population_weight.std() / np.sqrt(len(sample_1_weight))\n",
    "std_error_distance = abs(population_mean - sample_mean) / std_error\n",
    "\n",
    "is_sample_1_from_population = std_error_distance < 0.5\n",
    "display(is_sample_1_from_population)\n",
    "\n",
    "q2.b.check()"
   ]
  },
  {
   "cell_type": "markdown",
   "metadata": {
    "id": "8BhQK-xTce0t"
   },
   "source": [
    "## 3. Analise a `Amostra 2`\n",
    "Essa é uma atividade com múltiplas questões."
   ]
  },
  {
   "cell_type": "markdown",
   "metadata": {
    "id": "Goct_aTLce0t"
   },
   "source": [
    "### 3.a. Leia o arquivo com os dados da amostra.\n",
    "Armazene na variável `sample_2_weight`. \n",
    "\n",
    "Chame a função `q3.a.check()` no fim da célula para verificar a resposta.\n",
    "Você pode pedir dicas com `q3.a.hint()`"
   ]
  },
  {
   "cell_type": "code",
   "execution_count": 22,
   "metadata": {
    "id": "q2OynwLHce0u"
   },
   "outputs": [
    {
     "name": "stderr",
     "output_type": "stream",
     "text": [
      "C:\\Users\\matt\\AppData\\Local\\Temp\\ipykernel_7032\\3438849972.py:3: FutureWarning: The squeeze argument has been deprecated and will be removed in a future version. Append .squeeze(\"columns\") to the call to squeeze.\n",
      "\n",
      "\n",
      "  sample_2_weight = pd.read_csv(\"./pesos_amostra2.csv\", index_col=False, header=None, squeeze=True)\n"
     ]
    },
    {
     "data": {
      "text/plain": [
       "0     57.05\n",
       "1     52.67\n",
       "2     90.12\n",
       "3     51.51\n",
       "4     72.91\n",
       "      ...  \n",
       "95   103.64\n",
       "96    80.51\n",
       "97    59.21\n",
       "98    97.96\n",
       "99    91.60\n",
       "Name: 0, Length: 100, dtype: float64"
      ]
     },
     "metadata": {},
     "output_type": "display_data"
    },
    {
     "name": "stderr",
     "output_type": "stream",
     "text": [
      "C:\\Projects\\MachineLearning\\env\\lib\\site-packages\\learntools_dados_ufv\\ccf425\\pratica_3.py:53: FutureWarning: The squeeze argument has been deprecated and will be removed in a future version. Append .squeeze(\"columns\") to the call to squeeze.\n",
      "\n",
      "\n",
      "  assert_series_equals(sample_2_weight, pd.read_csv('./pesos_amostra2.csv', header=None, squeeze=True), name='sample_2_weight')\n"
     ]
    },
    {
     "data": {
      "application/javascript": [
       "parent.postMessage({\"jupyterEvent\": \"custom.exercise_interaction\", \"data\": {\"outcomeType\": 1, \"valueTowardsCompletion\": 0.5, \"interactionType\": 1, \"questionType\": 2, \"questionId\": \"3.1_Q3A\", \"learnToolsVersion\": \"1.0.10\", \"failureMessage\": \"\", \"exceptionClass\": \"\", \"trace\": \"\"}}, \"*\")"
      ],
      "text/plain": [
       "<IPython.core.display.Javascript object>"
      ]
     },
     "metadata": {},
     "output_type": "display_data"
    },
    {
     "data": {
      "text/markdown": [
       "<span style=\"color:#33cc33\">CORRETO:</span> \n",
       "\n"
      ],
      "text/plain": [
       "CORRETO: \n"
      ]
     },
     "metadata": {},
     "output_type": "display_data"
    }
   ],
   "source": [
    "# q3.a.hint()\n",
    "\n",
    "sample_2_weight = pd.read_csv(\"./pesos_amostra2.csv\", index_col=False, header=None, squeeze=True)\n",
    "display(sample_2_weight)\n",
    "\n",
    "q3.a.check()"
   ]
  },
  {
   "cell_type": "markdown",
   "metadata": {
    "id": "weOh7rGWce0u"
   },
   "source": [
    "### 3.b. Verifique se a amostra pertence a população.\n",
    "A amostra foi retirada ou não da população de pesos? Justifique\n",
    "\n",
    "Armazene a resposta booleana na variável `is_sample_2_from_population`. \n",
    "\n",
    "\n",
    "Chame a função `q3.b.check()` no fim da célula para verificar a resposta.\n",
    "Você pode pedir dicas com `q3.b.hint(n)` onde n é o número da dica.\n",
    "\n",
    "> OBS: Mesmo que o corretor aceite respostas booleanas (e você pode \"_roubar_\" testando a resposta antes), será analisado também a justificativa."
   ]
  },
  {
   "cell_type": "code",
   "execution_count": 23,
   "metadata": {
    "id": "ADI57jIhce0u"
   },
   "outputs": [
    {
     "data": {
      "text/plain": [
       "False"
      ]
     },
     "metadata": {},
     "output_type": "display_data"
    },
    {
     "data": {
      "application/javascript": [
       "parent.postMessage({\"jupyterEvent\": \"custom.exercise_interaction\", \"data\": {\"outcomeType\": 1, \"valueTowardsCompletion\": 0.5, \"interactionType\": 1, \"questionType\": 1, \"questionId\": \"3.2_Q3B\", \"learnToolsVersion\": \"1.0.10\", \"failureMessage\": \"\", \"exceptionClass\": \"\", \"trace\": \"\"}}, \"*\")"
      ],
      "text/plain": [
       "<IPython.core.display.Javascript object>"
      ]
     },
     "metadata": {},
     "output_type": "display_data"
    },
    {
     "data": {
      "text/markdown": [
       "<span style=\"color:#33cc33\">CORRETO:</span> \n",
       "\n"
      ],
      "text/plain": [
       "CORRETO: \n"
      ]
     },
     "metadata": {},
     "output_type": "display_data"
    }
   ],
   "source": [
    "# q3.b.hint()\n",
    "\n",
    "sample_mean = sample_2_weight.mean()\n",
    "population_mean = population_weight.mean()\n",
    "\n",
    "std_error = population_weight.std() / np.sqrt(len(sample_2_weight))\n",
    "std_error_distance = abs(population_mean - sample_mean) / std_error\n",
    "\n",
    "is_sample_2_from_population = std_error_distance < 0.5\n",
    "display(is_sample_2_from_population)\n",
    "\n",
    "q3.b.check()"
   ]
  },
  {
   "cell_type": "markdown",
   "metadata": {
    "id": "D1S_zwDwce0u"
   },
   "source": [
    "## 4. Analise a `Amostra 3`\n",
    "Essa é uma atividade com múltiplas questões."
   ]
  },
  {
   "cell_type": "markdown",
   "metadata": {
    "id": "V4t4szWcce0u"
   },
   "source": [
    "### 4.a. Leia o arquivo com os dados da amostra.\n",
    "Armazene na variável `sample_3_weight`. \n",
    "\n",
    "Chame a função `q4.a.check()` no fim da célula para verificar a resposta.\n",
    "Você pode pedir dicas com `q4.a.hint()`"
   ]
  },
  {
   "cell_type": "code",
   "execution_count": 25,
   "metadata": {
    "id": "QTgIHUcOce0u"
   },
   "outputs": [
    {
     "name": "stderr",
     "output_type": "stream",
     "text": [
      "C:\\Users\\matt\\AppData\\Local\\Temp\\ipykernel_7032\\1774541566.py:3: FutureWarning: The squeeze argument has been deprecated and will be removed in a future version. Append .squeeze(\"columns\") to the call to squeeze.\n",
      "\n",
      "\n",
      "  sample_3_weight = pd.read_csv(\"./pesos_amostra3.csv\", index_col=False, header=None, squeeze=True)\n"
     ]
    },
    {
     "data": {
      "text/plain": [
       "0    214.26\n",
       "1    204.95\n",
       "2    216.39\n",
       "3    202.86\n",
       "4    190.51\n",
       "      ...  \n",
       "95   201.70\n",
       "96   221.31\n",
       "97   218.35\n",
       "98   213.32\n",
       "99   199.10\n",
       "Name: 0, Length: 100, dtype: float64"
      ]
     },
     "metadata": {},
     "output_type": "display_data"
    },
    {
     "name": "stderr",
     "output_type": "stream",
     "text": [
      "C:\\Projects\\MachineLearning\\env\\lib\\site-packages\\learntools_dados_ufv\\ccf425\\pratica_3.py:80: FutureWarning: The squeeze argument has been deprecated and will be removed in a future version. Append .squeeze(\"columns\") to the call to squeeze.\n",
      "\n",
      "\n",
      "  assert_series_equals(sample_3_weight, pd.read_csv('./pesos_amostra3.csv', header=None, squeeze=True), name='sample_3_weight')\n"
     ]
    },
    {
     "data": {
      "application/javascript": [
       "parent.postMessage({\"jupyterEvent\": \"custom.exercise_interaction\", \"data\": {\"outcomeType\": 1, \"valueTowardsCompletion\": 0.5, \"interactionType\": 1, \"questionType\": 2, \"questionId\": \"4.1_Q4A\", \"learnToolsVersion\": \"1.0.10\", \"failureMessage\": \"\", \"exceptionClass\": \"\", \"trace\": \"\"}}, \"*\")"
      ],
      "text/plain": [
       "<IPython.core.display.Javascript object>"
      ]
     },
     "metadata": {},
     "output_type": "display_data"
    },
    {
     "data": {
      "text/markdown": [
       "<span style=\"color:#33cc33\">CORRETO:</span> \n",
       "\n"
      ],
      "text/plain": [
       "CORRETO: \n"
      ]
     },
     "metadata": {},
     "output_type": "display_data"
    }
   ],
   "source": [
    "# q4.a.hint()\n",
    "\n",
    "sample_3_weight = pd.read_csv(\"./pesos_amostra3.csv\", index_col=False, header=None, squeeze=True)\n",
    "display(sample_3_weight)\n",
    "\n",
    "q4.a.check()"
   ]
  },
  {
   "cell_type": "markdown",
   "metadata": {
    "id": "X0-d7FOuce0v"
   },
   "source": [
    "### 4.b. Verifique se a amostra pertence a população.\n",
    "A amostra foi retirada ou não da população de pesos? Justifique\n",
    "\n",
    "Armazene a resposta booleana na variável `is_sample_3_from_population`. \n",
    "\n",
    "\n",
    "Chame a função `q4.b.check()` no fim da célula para verificar a resposta.\n",
    "Você pode pedir dicas com `q4.b.hint(n)` onde n é o número da dica.\n",
    "\n",
    "> OBS: Mesmo que o corretor aceite respostas booleanas (e você pode \"_roubar_\" testando a resposta antes), será analisado também a justificativa."
   ]
  },
  {
   "cell_type": "code",
   "execution_count": 26,
   "metadata": {
    "id": "FNlXSD_Qce0v"
   },
   "outputs": [
    {
     "data": {
      "text/plain": [
       "False"
      ]
     },
     "metadata": {},
     "output_type": "display_data"
    },
    {
     "data": {
      "application/javascript": [
       "parent.postMessage({\"jupyterEvent\": \"custom.exercise_interaction\", \"data\": {\"outcomeType\": 1, \"valueTowardsCompletion\": 0.5, \"interactionType\": 1, \"questionType\": 1, \"questionId\": \"4.2_Q4B\", \"learnToolsVersion\": \"1.0.10\", \"failureMessage\": \"\", \"exceptionClass\": \"\", \"trace\": \"\"}}, \"*\")"
      ],
      "text/plain": [
       "<IPython.core.display.Javascript object>"
      ]
     },
     "metadata": {},
     "output_type": "display_data"
    },
    {
     "data": {
      "text/markdown": [
       "<span style=\"color:#33cc33\">CORRETO:</span> \n",
       "\n"
      ],
      "text/plain": [
       "CORRETO: \n"
      ]
     },
     "metadata": {},
     "output_type": "display_data"
    }
   ],
   "source": [
    "# q4.b.hint()\n",
    "\n",
    "sample_mean = sample_3_weight.mean()\n",
    "population_mean = population_weight.mean()\n",
    "\n",
    "std_error = population_weight.std() / np.sqrt(len(sample_3_weight))\n",
    "std_error_distance = abs(population_mean - sample_mean) / std_error\n",
    "\n",
    "is_sample_3_from_population = std_error_distance < 0.5\n",
    "display(is_sample_3_from_population)\n",
    "\n",
    "q4.b.check()"
   ]
  },
  {
   "cell_type": "markdown",
   "metadata": {
    "id": "iqBcNmxIce0v"
   },
   "source": [
    "## 5. Analise a `Amostra 4`\n",
    "Essa é uma atividade com múltiplas questões."
   ]
  },
  {
   "cell_type": "markdown",
   "metadata": {
    "id": "bjUidZpice0v"
   },
   "source": [
    "### 5.a. Leia o arquivo com os dados da amostra.\n",
    "Armazene na variável `sample_4_weight`. \n",
    "\n",
    "Chame a função `q5.a.check()` no fim da célula para verificar a resposta.\n",
    "Você pode pedir dicas com `q5.a.hint()`"
   ]
  },
  {
   "cell_type": "code",
   "execution_count": 28,
   "metadata": {
    "id": "YvpvzigCce0v"
   },
   "outputs": [
    {
     "name": "stderr",
     "output_type": "stream",
     "text": [
      "C:\\Users\\matt\\AppData\\Local\\Temp\\ipykernel_7032\\1667798476.py:3: FutureWarning: The squeeze argument has been deprecated and will be removed in a future version. Append .squeeze(\"columns\") to the call to squeeze.\n",
      "\n",
      "\n",
      "  sample_4_weight = pd.read_csv(\"./pesos_amostra4.csv\", index_col=False, header=None, squeeze=True)\n"
     ]
    },
    {
     "data": {
      "text/plain": [
       "0    138.50\n",
       "1    133.93\n",
       "2    146.47\n",
       "3    174.60\n",
       "4    116.79\n",
       "      ...  \n",
       "95   171.52\n",
       "96   159.26\n",
       "97   164.46\n",
       "98   188.13\n",
       "99   163.94\n",
       "Name: 0, Length: 100, dtype: float64"
      ]
     },
     "metadata": {},
     "output_type": "display_data"
    },
    {
     "name": "stderr",
     "output_type": "stream",
     "text": [
      "C:\\Projects\\MachineLearning\\env\\lib\\site-packages\\learntools_dados_ufv\\ccf425\\pratica_3.py:107: FutureWarning: The squeeze argument has been deprecated and will be removed in a future version. Append .squeeze(\"columns\") to the call to squeeze.\n",
      "\n",
      "\n",
      "  assert_series_equals(sample_4_weight, pd.read_csv('./pesos_amostra4.csv', header=None, squeeze=True), name='sample_4_weight')\n"
     ]
    },
    {
     "data": {
      "application/javascript": [
       "parent.postMessage({\"jupyterEvent\": \"custom.exercise_interaction\", \"data\": {\"outcomeType\": 1, \"valueTowardsCompletion\": 0.5, \"interactionType\": 1, \"questionType\": 2, \"questionId\": \"5.1_Q5A\", \"learnToolsVersion\": \"1.0.10\", \"failureMessage\": \"\", \"exceptionClass\": \"\", \"trace\": \"\"}}, \"*\")"
      ],
      "text/plain": [
       "<IPython.core.display.Javascript object>"
      ]
     },
     "metadata": {},
     "output_type": "display_data"
    },
    {
     "data": {
      "text/markdown": [
       "<span style=\"color:#33cc33\">CORRETO:</span> \n",
       "\n"
      ],
      "text/plain": [
       "CORRETO: \n"
      ]
     },
     "metadata": {},
     "output_type": "display_data"
    }
   ],
   "source": [
    "# q5.a.hint()\n",
    "\n",
    "sample_4_weight = pd.read_csv(\"./pesos_amostra4.csv\", index_col=False, header=None, squeeze=True)\n",
    "display(sample_4_weight)\n",
    "\n",
    "q5.a.check()"
   ]
  },
  {
   "cell_type": "markdown",
   "metadata": {
    "id": "YrF609M-ce0v"
   },
   "source": [
    "### 5.b. Verifique se a amostra pertence a população.\n",
    "A amostra foi retirada ou não da população de pesos? Justifique\n",
    "\n",
    "Armazene a resposta booleana na variável `is_sample_4_from_population`. \n",
    "\n",
    "\n",
    "Chame a função `q5.b.check()` no fim da célula para verificar a resposta.\n",
    "Você pode pedir dicas com `q5.b.hint(n)` onde n é o número da dica.\n",
    "\n",
    "> OBS: Mesmo que o corretor aceite respostas booleanas (e você pode \"_roubar_\" testando a resposta antes), será analisado também a justificativa."
   ]
  },
  {
   "cell_type": "code",
   "execution_count": 29,
   "metadata": {
    "id": "vbcA6yj9ce0v"
   },
   "outputs": [
    {
     "data": {
      "text/plain": [
       "False"
      ]
     },
     "metadata": {},
     "output_type": "display_data"
    },
    {
     "data": {
      "application/javascript": [
       "parent.postMessage({\"jupyterEvent\": \"custom.exercise_interaction\", \"data\": {\"outcomeType\": 1, \"valueTowardsCompletion\": 0.5, \"interactionType\": 1, \"questionType\": 1, \"questionId\": \"5.2_Q5B\", \"learnToolsVersion\": \"1.0.10\", \"failureMessage\": \"\", \"exceptionClass\": \"\", \"trace\": \"\"}}, \"*\")"
      ],
      "text/plain": [
       "<IPython.core.display.Javascript object>"
      ]
     },
     "metadata": {},
     "output_type": "display_data"
    },
    {
     "data": {
      "text/markdown": [
       "<span style=\"color:#33cc33\">CORRETO:</span> \n",
       "\n"
      ],
      "text/plain": [
       "CORRETO: \n"
      ]
     },
     "metadata": {},
     "output_type": "display_data"
    }
   ],
   "source": [
    "# q5.b.hint()\n",
    "\n",
    "sample_mean = sample_4_weight.mean()\n",
    "population_mean = population_weight.mean()\n",
    "\n",
    "std_error = population_weight.std() / np.sqrt(len(sample_4_weight))\n",
    "std_error_distance = abs(population_mean - sample_mean) / std_error\n",
    "\n",
    "is_sample_4_from_population = std_error_distance < 0.5\n",
    "display(is_sample_4_from_population)\n",
    "\n",
    "q5.b.check()"
   ]
  },
  {
   "cell_type": "markdown",
   "metadata": {
    "id": "MK2u5ib7ce0v"
   },
   "source": [
    "## 6. Verifique se duas amostras são da mesma população.\n",
    "É provável que as amostras 2 e 3 tenham vindo de uma mesma população? Justifique.\n",
    "\n",
    "Essa atividade não tem `check`, mas você pode pedir dicas com `q6.hint()`"
   ]
  },
  {
   "cell_type": "code",
   "execution_count": null,
   "metadata": {
    "id": "YDewtgaGce0w"
   },
   "outputs": [],
   "source": [
    "# q6.hint()"
   ]
  },
  {
   "cell_type": "markdown",
   "metadata": {
    "id": "tiX-8REZce0w"
   },
   "source": [
    "### Resposta para questão 6:\n",
    "Não, é improvável. De acordo com os testes feitos anteriormente, podemos identificar uma distância do erro padrão maior que 0.5, portanto, é improvável que ambas as samples vieram da mesma população. Ambas essas amostras podem vir da mesma população, mas não a que foi testada."
   ]
  }
 ],
 "metadata": {
  "colab": {
   "name": "pratica_3_ccf425.ipynb",
   "provenance": [],
   "toc_visible": true
  },
  "interpreter": {
   "hash": "aee8b7b246df8f9039afb4144a1f6fd8d2ca17a180786b69acc140d282b71a49"
  },
  "kernelspec": {
   "display_name": "Python 3 (ipykernel)",
   "language": "python",
   "name": "python3"
  },
  "language_info": {
   "codemirror_mode": {
    "name": "ipython",
    "version": 3
   },
   "file_extension": ".py",
   "mimetype": "text/x-python",
   "name": "python",
   "nbconvert_exporter": "python",
   "pygments_lexer": "ipython3",
   "version": "3.10.9"
  }
 },
 "nbformat": 4,
 "nbformat_minor": 1
}
